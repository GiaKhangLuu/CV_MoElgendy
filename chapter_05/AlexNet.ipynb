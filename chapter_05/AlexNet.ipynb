{
  "nbformat": 4,
  "nbformat_minor": 0,
  "metadata": {
    "colab": {
      "name": "AlexNet",
      "provenance": []
    },
    "kernelspec": {
      "name": "python3",
      "display_name": "Python 3"
    }
  },
  "cells": [
    {
      "cell_type": "code",
      "metadata": {
        "id": "cLPY_sFlpV0c"
      },
      "source": [
        "from keras.models import Sequential\n",
        "from keras.layers import Conv2D, AveragePooling2D, Flatten, Dense, Activation, MaxPooling2D, BatchNormalization, Dropout\n",
        "from keras.regularizers import l2"
      ],
      "execution_count": 1,
      "outputs": []
    },
    {
      "cell_type": "code",
      "metadata": {
        "colab": {
          "base_uri": "https://localhost:8080/"
        },
        "id": "fzpAak-Npz_9",
        "outputId": "326c7ae3-d4e4-496d-85a9-91397d22fa52"
      },
      "source": [
        "lamb = 0.0005\n",
        "model = Sequential(name=\"Alexnet\")\n",
        "\n",
        "# 1st layer (Conv, MaxPool, BatchNorm)\n",
        "model.add(Conv2D(filters=96, kernel_size=(11, 11), strides=(4, 4), padding='valid', \n",
        "                 kernel_regularizer=l2(lamb), input_shape=(227, 227, 3)))\n",
        "model.add(Activation('relu'))\n",
        "model.add(MaxPooling2D(pool_size=(3, 3), strides=(2, 2), padding='valid'))\n",
        "model.add(BatchNormalization())\n",
        "\n",
        "# 2nd layer (Conv, MaxPool, BatchNorm)\n",
        "model.add(Conv2D(filters=256, kernel_size=(5, 5), strides=(1, 1), padding='same', \n",
        "                 kernel_regularizer=l2(lamb)))\n",
        "model.add(Activation('relu'))\n",
        "model.add(MaxPooling2D(pool_size=(3, 3), strides=(2, 2), padding='valid'))\n",
        "model.add(BatchNormalization())\n",
        "\n",
        "# 3rd layer (Conv, BatchNorm)\n",
        "model.add(Conv2D(filters=384, kernel_size=(3, 3), strides=(1, 1), padding='same', \n",
        "                 kernel_regularizer=l2(lamb)))\n",
        "model.add(Activation('relu'))\n",
        "model.add(BatchNormalization())\n",
        "\n",
        "# 4th layer (Conv, BatchNorm)\n",
        "model.add(Conv2D(filters=384, kernel_size=(3, 3), strides=(1, 1), padding='same', \n",
        "          kernel_regularizer=l2(lamb)))\n",
        "model.add(Activation('relu'))\n",
        "model.add(BatchNormalization())\n",
        "\n",
        "# 5th layer (Conv, MaxPooling, BatchNorm)\n",
        "model.add(Conv2D(filters=256, kernel_size=(3, 3), strides=(1, 1), padding='same', \n",
        "                 kernel_regularizer=l2(lamb)))\n",
        "model.add(Activation('relu'))\n",
        "model.add(MaxPooling2D(pool_size=(3, 3), strides=(2, 2), padding='valid'))\n",
        "model.add(BatchNormalization())\n",
        "\n",
        "# Flatten\n",
        "model.add(Flatten())\n",
        "\n",
        "# 6th layer (FC + Dropout)\n",
        "model.add(Dense(units=4096, activation='relu'))\n",
        "model.add(Dropout(0.5))\n",
        "\n",
        "# 7th layer (FC + Dropout)\n",
        "model.add(Dense(units=4096, activation='relu'))\n",
        "model.add(Dropout(0.5))\n",
        "\n",
        "# 8th layer (Ouput)\n",
        "model.add(Dense(units=1000, activation='softmax'))\n",
        "\n",
        "model.summary()"
      ],
      "execution_count": 19,
      "outputs": [
        {
          "output_type": "stream",
          "text": [
            "Model: \"Alexnet\"\n",
            "_________________________________________________________________\n",
            "Layer (type)                 Output Shape              Param #   \n",
            "=================================================================\n",
            "conv2d_32 (Conv2D)           (None, 55, 55, 96)        34944     \n",
            "_________________________________________________________________\n",
            "activation_27 (Activation)   (None, 55, 55, 96)        0         \n",
            "_________________________________________________________________\n",
            "max_pooling2d_20 (MaxPooling (None, 27, 27, 96)        0         \n",
            "_________________________________________________________________\n",
            "batch_normalization_24 (Batc (None, 27, 27, 96)        384       \n",
            "_________________________________________________________________\n",
            "conv2d_33 (Conv2D)           (None, 27, 27, 256)       614656    \n",
            "_________________________________________________________________\n",
            "activation_28 (Activation)   (None, 27, 27, 256)       0         \n",
            "_________________________________________________________________\n",
            "max_pooling2d_21 (MaxPooling (None, 13, 13, 256)       0         \n",
            "_________________________________________________________________\n",
            "batch_normalization_25 (Batc (None, 13, 13, 256)       1024      \n",
            "_________________________________________________________________\n",
            "conv2d_34 (Conv2D)           (None, 13, 13, 384)       885120    \n",
            "_________________________________________________________________\n",
            "activation_29 (Activation)   (None, 13, 13, 384)       0         \n",
            "_________________________________________________________________\n",
            "batch_normalization_26 (Batc (None, 13, 13, 384)       1536      \n",
            "_________________________________________________________________\n",
            "conv2d_35 (Conv2D)           (None, 13, 13, 384)       1327488   \n",
            "_________________________________________________________________\n",
            "activation_30 (Activation)   (None, 13, 13, 384)       0         \n",
            "_________________________________________________________________\n",
            "batch_normalization_27 (Batc (None, 13, 13, 384)       1536      \n",
            "_________________________________________________________________\n",
            "conv2d_36 (Conv2D)           (None, 13, 13, 256)       884992    \n",
            "_________________________________________________________________\n",
            "activation_31 (Activation)   (None, 13, 13, 256)       0         \n",
            "_________________________________________________________________\n",
            "max_pooling2d_22 (MaxPooling (None, 6, 6, 256)         0         \n",
            "_________________________________________________________________\n",
            "batch_normalization_28 (Batc (None, 6, 6, 256)         1024      \n",
            "_________________________________________________________________\n",
            "flatten_3 (Flatten)          (None, 9216)              0         \n",
            "_________________________________________________________________\n",
            "dense_6 (Dense)              (None, 4096)              37752832  \n",
            "_________________________________________________________________\n",
            "dropout_3 (Dropout)          (None, 4096)              0         \n",
            "_________________________________________________________________\n",
            "dense_7 (Dense)              (None, 4096)              16781312  \n",
            "_________________________________________________________________\n",
            "dropout_4 (Dropout)          (None, 4096)              0         \n",
            "_________________________________________________________________\n",
            "dense_8 (Dense)              (None, 1000)              4097000   \n",
            "=================================================================\n",
            "Total params: 62,383,848\n",
            "Trainable params: 62,381,096\n",
            "Non-trainable params: 2,752\n",
            "_________________________________________________________________\n"
          ],
          "name": "stdout"
        }
      ]
    },
    {
      "cell_type": "code",
      "metadata": {
        "colab": {
          "base_uri": "https://localhost:8080/",
          "height": 215
        },
        "id": "ojlQXvd1szLy",
        "outputId": "bb129c8b-5ac1-4154-e445-f86f6722b912"
      },
      "source": [
        "# Compile model\n",
        "from keras.callbacks import ReduceLROnPlateau\n",
        "import keras.optimizers\n",
        "\n",
        "reduce_lr = ReduceLROnPlateau(monitor='val_loss', factor=0.1)\n",
        "optimizer = keras.optimizers.SGD(lr=0.01, momentum=0.9)\n",
        "\n",
        "model.compile(optimizer=optimizer, loss='categorical_crossentropy', \n",
        "              metrics=['accuracy'])\n",
        "model.fit(X_train, y_train, batch_size=128, epochs=90, verbose=2, \n",
        "          callbacks=[reduce_lr], validation_data=(X_val, y_val))"
      ],
      "execution_count": 26,
      "outputs": [
        {
          "output_type": "error",
          "ename": "NameError",
          "evalue": "ignored",
          "traceback": [
            "\u001b[0;31m---------------------------------------------------------------------------\u001b[0m",
            "\u001b[0;31mNameError\u001b[0m                                 Traceback (most recent call last)",
            "\u001b[0;32m<ipython-input-26-6e3cc958160e>\u001b[0m in \u001b[0;36m<module>\u001b[0;34m()\u001b[0m\n\u001b[1;32m      8\u001b[0m model.compile(optimizer=optimizer, loss='categorical_crossentropy', \n\u001b[1;32m      9\u001b[0m               metrics=['accuracy'])\n\u001b[0;32m---> 10\u001b[0;31m model.fit(X_train, y_train, batch_size=128, epochs=90, verbose=2, \n\u001b[0m\u001b[1;32m     11\u001b[0m           callbacks=[reduce_lr], validation_data=(X_val, y_val))\n",
            "\u001b[0;31mNameError\u001b[0m: name 'X_train' is not defined"
          ]
        }
      ]
    },
    {
      "cell_type": "code",
      "metadata": {
        "id": "nrA4Aw6N2K6C"
      },
      "source": [
        ""
      ],
      "execution_count": null,
      "outputs": []
    }
  ]
}